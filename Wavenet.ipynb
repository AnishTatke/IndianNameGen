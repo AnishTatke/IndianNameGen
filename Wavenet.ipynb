{
 "cells": [
  {
   "cell_type": "markdown",
   "metadata": {},
   "source": [
    "# Wave Net"
   ]
  },
  {
   "cell_type": "markdown",
   "metadata": {},
   "source": [
    "### Imports"
   ]
  },
  {
   "cell_type": "code",
   "execution_count": 1,
   "metadata": {},
   "outputs": [],
   "source": [
    "import torch\n",
    "import torch.nn as nn\n",
    "import torch.nn.functional as F\n",
    "import matplotlib.pyplot as plt\n",
    "%matplotlib inline\n",
    "import re\n",
    "import pandas as pd\n",
    "import random"
   ]
  },
  {
   "cell_type": "markdown",
   "metadata": {},
   "source": [
    "### Loading Data and Dictionaries"
   ]
  },
  {
   "cell_type": "code",
   "execution_count": 2,
   "metadata": {},
   "outputs": [
    {
     "data": {
      "text/plain": [
       "7904"
      ]
     },
     "execution_count": 2,
     "metadata": {},
     "output_type": "execute_result"
    }
   ],
   "source": [
    "checkSpecialChar = lambda s: re.match(r\"^[A-Za-z]+$\", s) is not None\n",
    "text_file = open('data/first_name.txt').read().splitlines()\n",
    "text_file = [x.lower() for x in text_file if isinstance(x, str) and checkSpecialChar(x)]\n",
    "csv_names = [x for x in pd.read_csv('data/Indian_names.csv')['Name'] if isinstance(x, str) and checkSpecialChar(x)]\n",
    "words = text_file + csv_names\n",
    "words = list(set(words))\n",
    "len(words)"
   ]
  },
  {
   "cell_type": "code",
   "execution_count": 3,
   "metadata": {},
   "outputs": [
    {
     "name": "stdout",
     "output_type": "stream",
     "text": [
      "{1: 'a', 2: 'b', 3: 'c', 4: 'd', 5: 'e', 6: 'f', 7: 'g', 8: 'h', 9: 'i', 10: 'j', 11: 'k', 12: 'l', 13: 'm', 14: 'n', 15: 'o', 16: 'p', 17: 'q', 18: 'r', 19: 's', 20: 't', 21: 'u', 22: 'v', 23: 'w', 24: 'x', 25: 'y', 26: 'z', 0: '.'}\n"
     ]
    }
   ],
   "source": [
    "chars = sorted(list(set(''.join(words))))\n",
    "stoi = {s:i+1 for i, s in enumerate(chars)}\n",
    "stoi['.'] = 0\n",
    "itos = {i: s for s, i in stoi.items()}\n",
    "print(itos)"
   ]
  },
  {
   "cell_type": "markdown",
   "metadata": {},
   "source": [
    "### Randomizer and Parameters"
   ]
  },
  {
   "cell_type": "code",
   "execution_count": 93,
   "metadata": {},
   "outputs": [],
   "source": [
    "torch.manual_seed(42)\n",
    "block_size = 8\n",
    "embed_size = 24\n",
    "batch_size = 32\n",
    "vocab_size = len(words)\n",
    "chars_size = len(itos)\n",
    "hidden_size = 128"
   ]
  },
  {
   "cell_type": "markdown",
   "metadata": {},
   "source": [
    "### Build Dataset"
   ]
  },
  {
   "cell_type": "code",
   "execution_count": 94,
   "metadata": {},
   "outputs": [
    {
     "name": "stdout",
     "output_type": "stream",
     "text": [
      "torch.Size([46895, 8]) torch.Size([46895])\n",
      "torch.Size([5861, 8]) torch.Size([5861])\n",
      "torch.Size([5955, 8]) torch.Size([5955])\n"
     ]
    }
   ],
   "source": [
    "def build_dataset(words):    \n",
    "    X, Y = [], []\n",
    "    for word in words:\n",
    "        # print(word) \n",
    "        context = [0] * block_size\n",
    "        for ch in word + '.':\n",
    "            ix = stoi[ch]\n",
    "            X.append(context)\n",
    "            Y.append(ix)\n",
    "            # print(''.join([itos[ix] for ix in context]), '---->', itos[ix])\n",
    "            context = context[1:] + [ix]\n",
    "\n",
    "    X = torch.tensor(X)\n",
    "    Y = torch.tensor(Y)\n",
    "    print(X.shape, Y.shape)\n",
    "    return X, Y\n",
    "\n",
    "random.seed(42)\n",
    "random.shuffle(words)\n",
    "n1 = int(0.8 * len(words))\n",
    "n2 = int(0.9 * len(words))\n",
    "\n",
    "Xtr, Ytr = build_dataset(words[:n1])\n",
    "Xva, Yva = build_dataset(words[n1:n2])\n",
    "Xte, Yte = build_dataset(words[n2:])"
   ]
  },
  {
   "cell_type": "code",
   "execution_count": 97,
   "metadata": {},
   "outputs": [
    {
     "name": "stdout",
     "output_type": "stream",
     "text": [
      "........ ----> k\n",
      ".......k ----> a\n",
      "......ka ----> i\n",
      ".....kai ----> f\n",
      "....kaif ----> .\n",
      "........ ----> c\n",
      ".......c ----> h\n",
      "......ch ----> i\n",
      ".....chi ----> d\n",
      "....chid ----> d\n",
      "...chidd ----> u\n",
      "..chiddu ----> .\n"
     ]
    }
   ],
   "source": [
    "for x, y in zip(Xtr[:12], Ytr[:12]):\n",
    "    print(''.join([itos[ix.item()] for ix in x]), '---->', itos[y.item()])"
   ]
  },
  {
   "cell_type": "markdown",
   "metadata": {},
   "source": [
    "### Custom Layers"
   ]
  },
  {
   "cell_type": "code",
   "execution_count": 98,
   "metadata": {},
   "outputs": [],
   "source": [
    "# Model Blocks\n",
    "#----------------------------------------------------------------------------------\n",
    "class Linear:\n",
    "    def __init__(self, fan_in, fan_out, bias = True, gain = None):\n",
    "       self.weight = torch.randn((fan_in, fan_out)) / (fan_in ** 0.5)\n",
    "       if gain:\n",
    "           with torch.no_grad():\n",
    "               self.weight *= gain\n",
    "       self.bias = torch.zeros(fan_out) if bias else None\n",
    "\n",
    "    def __call__(self, x):\n",
    "        self.out = x @ self.weight\n",
    "        if self.bias is not None:\n",
    "            self.out += self.bias\n",
    "        return self.out\n",
    "    \n",
    "    def parameters(self):\n",
    "        return [self.weight] + ([] if self.bias is None else [self.bias])\n",
    "    \n",
    "#----------------------------------------------------------------------------------\n",
    "class BatchNorm1D:\n",
    "    def __init__(self, dim, eps = 1e-5, momentum = 0.1):\n",
    "        self.eps = eps\n",
    "        self.momentum = momentum\n",
    "        self.training = True\n",
    "        # parameters trained with backprop\n",
    "        self.gamma = torch.ones(dim)\n",
    "        self.beta = torch.zeros(dim)\n",
    "        # buffers (trained with running \"momentum update\")\n",
    "        self.running_mean = torch.zeros(dim)\n",
    "        self.running_var = torch.ones(dim)\n",
    "\n",
    "    def __call__(self, x):\n",
    "        if self.training:\n",
    "            if x.ndim == 2:\n",
    "                dim = 0\n",
    "            elif x.ndim == 3:\n",
    "                dim = (0, 1)\n",
    "            xmean = x.mean(dim, keepdim = True)\n",
    "            xvar = x.var(dim, unbiased = True, keepdim = True)\n",
    "        else:\n",
    "            xmean = self.running_mean\n",
    "            xvar = self.running_var\n",
    "\n",
    "        xhat = (x - xmean) / torch.sqrt(xvar + self.eps)\n",
    "        self.out = self.gamma * xhat + self.beta\n",
    "        # update buffers\n",
    "        if self.training:\n",
    "            with torch.no_grad():\n",
    "                self.running_mean = (1 - self.momentum) * self.running_mean + self.momentum * xmean\n",
    "                self.running_var = (1 - self.momentum) * self.running_var + self.momentum * xvar\n",
    "        return self.out\n",
    "    \n",
    "    def parameters(self):\n",
    "        return [self.gamma, self.beta]\n",
    "\n",
    "#----------------------------------------------------------------------------------\n",
    "class Tanh:\n",
    "    def __call__(self, x):\n",
    "        self.out = x.tanh()\n",
    "        return self.out\n",
    "    def parameters(self):\n",
    "        return []\n",
    "    \n",
    "#----------------------------------------------------------------------------------\n",
    "class Embedding:\n",
    "    def __init__(self, num_embeddings, embedding_dim):\n",
    "        self.weight = torch.randn((num_embeddings, embedding_dim))\n",
    "    \n",
    "    def __call__(self, ix):\n",
    "        self.out = self.weight[ix]\n",
    "        return self.out\n",
    "    \n",
    "    def parameters(self):\n",
    "        return [self.weight]\n",
    "    \n",
    "#----------------------------------------------------------------------------------\n",
    "class FlattenConsecutive:\n",
    "    def __init__(self, n):\n",
    "        self.n = n\n",
    "\n",
    "    def __call__(self, x):\n",
    "        B, T, C = x.shape\n",
    "        x = x.view(B, T // self.n, C * self.n)\n",
    "        if x.shape[1] == 1:\n",
    "            x = x.squeeze(1)\n",
    "        self.out = x\n",
    "        return self.out\n",
    "    \n",
    "    def parameters(self):\n",
    "        return []\n",
    "    \n",
    "class Sequential:\n",
    "    def __init__(self, layers):\n",
    "        self.layers = layers\n",
    "\n",
    "    def __call__(self, x):\n",
    "        for layer in self.layers:\n",
    "            x = layer(x)\n",
    "        self.out = x\n",
    "        return self.out\n",
    "    \n",
    "    def parameters(self):\n",
    "        return [param for layer in self.layers for param in layer.parameters()]"
   ]
  },
  {
   "cell_type": "markdown",
   "metadata": {},
   "source": [
    "### Model Initialization"
   ]
  },
  {
   "cell_type": "code",
   "execution_count": 99,
   "metadata": {},
   "outputs": [
    {
     "name": "stdout",
     "output_type": "stream",
     "text": [
      "76579\n"
     ]
    }
   ],
   "source": [
    "model = Sequential([\n",
    "    Embedding(chars_size, embed_size),\n",
    "    FlattenConsecutive(2), Linear(embed_size * 2, hidden_size, bias=False), BatchNorm1D(hidden_size), Tanh(),\n",
    "    FlattenConsecutive(2), Linear(hidden_size * 2, hidden_size, bias=False), BatchNorm1D(hidden_size), Tanh(),\n",
    "    FlattenConsecutive(2), Linear(hidden_size * 2, hidden_size, bias=False), BatchNorm1D(hidden_size), Tanh(),\n",
    "    Linear(hidden_size, chars_size, gain=0.1)\n",
    "])\n",
    "\n",
    "parameters = model.parameters()\n",
    "for p in parameters:\n",
    "    p.requires_grad = True\n",
    "print(sum(p.nelement() for p in parameters))"
   ]
  },
  {
   "cell_type": "markdown",
   "metadata": {},
   "source": [
    "### Training"
   ]
  },
  {
   "cell_type": "code",
   "execution_count": 100,
   "metadata": {},
   "outputs": [],
   "source": [
    "def train(X, Y, num_epochs=100000):\n",
    "    losses = []\n",
    "    for i in range(num_epochs):\n",
    "        # Minibatch generation\n",
    "        ix = torch.randint(0, X.shape[0], (batch_size,))\n",
    "        Xb, Yb = X[ix], Y[ix]\n",
    "\n",
    "        # Forward Pass\n",
    "        logits = model(Xb)\n",
    "        loss = F.cross_entropy(logits, Yb)\n",
    "\n",
    "        # Backward Pass\n",
    "        for p in parameters:\n",
    "            p.grad = None\n",
    "        loss.backward()\n",
    "\n",
    "        # update weights\n",
    "        lr = 0.1 if i < 50000 else 0.01\n",
    "        for p in parameters:\n",
    "            p.data += -lr * p.grad\n",
    "            \n",
    "        losses.append(loss.log10().item())\n",
    "\n",
    "        # track stats\n",
    "        if i % 10000 == 0:\n",
    "            print(f\"{i:7d} / {num_epochs:7d}: {loss.item():.4f}\")\n",
    "    return losses"
   ]
  },
  {
   "cell_type": "code",
   "execution_count": 101,
   "metadata": {},
   "outputs": [
    {
     "name": "stdout",
     "output_type": "stream",
     "text": [
      "      0 /  100000: 3.2945\n",
      "  10000 /  100000: 2.2184\n",
      "  20000 /  100000: 2.0270\n",
      "  30000 /  100000: 1.9628\n",
      "  40000 /  100000: 1.7899\n",
      "  50000 /  100000: 1.4058\n",
      "  60000 /  100000: 1.4093\n",
      "  70000 /  100000: 1.3189\n",
      "  80000 /  100000: 1.7023\n",
      "  90000 /  100000: 1.1596\n"
     ]
    }
   ],
   "source": [
    "losses = train(Xtr, Ytr)"
   ]
  },
  {
   "cell_type": "code",
   "execution_count": 102,
   "metadata": {},
   "outputs": [
    {
     "name": "stdout",
     "output_type": "stream",
     "text": [
      "Embedding : torch.Size([32, 8, 24])\n",
      "FlattenConsecutive : torch.Size([32, 4, 48])\n",
      "Linear : torch.Size([32, 4, 128])\n",
      "BatchNorm1D : torch.Size([32, 4, 128])\n",
      "Tanh : torch.Size([32, 4, 128])\n",
      "FlattenConsecutive : torch.Size([32, 2, 256])\n",
      "Linear : torch.Size([32, 2, 128])\n",
      "BatchNorm1D : torch.Size([32, 2, 128])\n",
      "Tanh : torch.Size([32, 2, 128])\n",
      "FlattenConsecutive : torch.Size([32, 256])\n",
      "Linear : torch.Size([32, 128])\n",
      "BatchNorm1D : torch.Size([32, 128])\n",
      "Tanh : torch.Size([32, 128])\n",
      "Linear : torch.Size([32, 27])\n"
     ]
    }
   ],
   "source": [
    "for layer in model.layers:\n",
    "    print(f\"{layer.__class__.__name__} : {layer.out.shape}\")"
   ]
  },
  {
   "cell_type": "code",
   "execution_count": 103,
   "metadata": {},
   "outputs": [
    {
     "data": {
      "text/plain": [
       "[<matplotlib.lines.Line2D at 0x23bd8787410>]"
      ]
     },
     "execution_count": 103,
     "metadata": {},
     "output_type": "execute_result"
    },
    {
     "data": {
      "image/png": "[encoded data removed]",
      "text/plain": [
       "<Figure size 640x480 with 1 Axes>"
      ]
     },
     "metadata": {},
     "output_type": "display_data"
    }
   ],
   "source": [
    "plt.plot(torch.tensor(losses).view(-1, 1000).mean(1))"
   ]
  },
  {
   "cell_type": "markdown",
   "metadata": {},
   "source": [
    "### Evaluation"
   ]
  },
  {
   "cell_type": "code",
   "execution_count": 104,
   "metadata": {},
   "outputs": [
    {
     "name": "stdout",
     "output_type": "stream",
     "text": [
      "train 1.4048711061477661\n",
      "val 2.2751305103302\n"
     ]
    }
   ],
   "source": [
    "@torch.no_grad()\n",
    "def split_loss(split): \n",
    "    X, Y = {\n",
    "        \"train\": (Xtr, Ytr),\n",
    "        \"val\": (Xva, Yva),\n",
    "        \"test\": (Xte, Yte)\n",
    "    }[split]\n",
    "    logits = model(X)\n",
    "    loss = F.cross_entropy(logits, Y)\n",
    "    print(split, loss.item())\n",
    "\n",
    "for layer in model.layers:\n",
    "    layer.training = False\n",
    "    \n",
    "split_loss(\"train\")\n",
    "split_loss(\"val\")"
   ]
  },
  {
   "cell_type": "markdown",
   "metadata": {},
   "source": [
    "#### Performance log\n",
    "- Original (3 characters + 200 hidden neurons + 12K params): train 1.887, val 2.097\n",
    "- Optimized (8 characters + 200 hidden neurons + 22K params): train 1.604, val 2.184\n",
    "- WaveNet (8 characters + 68 hidden neurons + 22K params): train: 1.684, val 2.093"
   ]
  },
  {
   "cell_type": "markdown",
   "metadata": {},
   "source": [
    "### Next Word Generation"
   ]
  },
  {
   "cell_type": "code",
   "execution_count": 42,
   "metadata": {},
   "outputs": [
    {
     "name": "stdout",
     "output_type": "stream",
     "text": [
      "bigrudi.\n",
      "krajant.\n",
      "kailsir.\n",
      "rabib.\n",
      "udanjai.\n",
      "reena.\n",
      "yogini.\n",
      "shrajit.\n",
      "dhanav.\n",
      "narjan.\n",
      "renthan.\n",
      "dalni.\n",
      "aasmit.\n",
      "bhagilal.\n",
      "pram.\n",
      "husuvan.\n",
      "rami.\n",
      "sharunora.\n",
      "shakha.\n",
      "fariharan.\n"
     ]
    }
   ],
   "source": [
    "for _ in range(20):\n",
    "    out = []\n",
    "    context = [0] * block_size\n",
    "    while True:\n",
    "        logits = model(torch.tensor([context]))\n",
    "        probs = F.softmax(logits, dim=1)\n",
    "        ix = torch.multinomial(probs, num_samples=1).item()\n",
    "        context = context[1:] + [ix]\n",
    "        out.append(ix)\n",
    "        if ix == 0:\n",
    "            break\n",
    "        \n",
    "    print(''.join([itos[i] for i in out]))"
   ]
  },
  {
   "cell_type": "code",
   "execution_count": null,
   "metadata": {},
   "outputs": [],
   "source": []
  }
 ],
 "metadata": {
  "kernelspec": {
   "display_name": "MLEnv",
   "language": "python",
   "name": "python3"
  },
  "language_info": {
   "codemirror_mode": {
    "name": "ipython",
    "version": 3
   },
   "file_extension": ".py",
   "mimetype": "text/x-python",
   "name": "python",
   "nbconvert_exporter": "python",
   "pygments_lexer": "ipython3",
   "version": "3.11.5"
  }
 },
 "nbformat": 4,
 "nbformat_minor": 2
}
